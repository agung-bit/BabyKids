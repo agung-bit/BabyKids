{
  "nbformat": 4,
  "nbformat_minor": 0,
  "metadata": {
    "colab": {
      "name": "Untitled0.ipynb",
      "provenance": [],
      "collapsed_sections": [],
      "include_colab_link": true
    },
    "kernelspec": {
      "name": "python3",
      "display_name": "Python 3"
    },
    "language_info": {
      "name": "python"
    }
  },
  "cells": [
    {
      "cell_type": "markdown",
      "metadata": {
        "id": "view-in-github",
        "colab_type": "text"
      },
      "source": [
        "<a href=\"https://colab.research.google.com/github/agung-bit/BabyKids/blob/master/Devide%20and%20Conquer%20(Closest%20Pair%20Problem).ipynb\" target=\"_parent\"><img src=\"https://colab.research.google.com/assets/colab-badge.svg\" alt=\"Open In Colab\"/></a>"
      ]
    },
    {
      "cell_type": "code",
      "metadata": {
        "id": "e5slA7ZTvhtl"
      },
      "source": [
        "import matplotlib.pyplot as plt\n",
        "import math\n",
        "import copy\n",
        "import time"
      ],
      "execution_count": null,
      "outputs": []
    },
    {
      "cell_type": "code",
      "metadata": {
        "id": "dJgD-PR8s3QB"
      },
      "source": [
        "start = time.time()"
      ],
      "execution_count": null,
      "outputs": []
    },
    {
      "cell_type": "code",
      "metadata": {
        "id": "ZQ_hXuOLs4RZ"
      },
      "source": [
        "class titik():\n",
        "\tdef __init__(self, x, y):\n",
        "\t\tself.x = x\n",
        "\t\tself.y = y"
      ],
      "execution_count": null,
      "outputs": []
    },
    {
      "cell_type": "code",
      "metadata": {
        "id": "dTKaB4Xb0n2S"
      },
      "source": [
        "\n",
        "p=[titik(3,6),titik(9,12),titik(2,4),titik(6,8),titik(11,5),titik(12,14),titik(7,10),titik(16,20)]"
      ],
      "execution_count": null,
      "outputs": []
    },
    {
      "cell_type": "code",
      "metadata": {
        "colab": {
          "base_uri": "https://localhost:8080/",
          "height": 281
        },
        "id": "76lSWcR5umgk",
        "outputId": "35357fb3-6878-4470-cbbf-5c1212c0ea37"
      },
      "source": [
        "for i in p:\n",
        "  plt.scatter(i.x, i.y, s=50)\n",
        "  plt.title(\"posisi tiitk\")\n",
        "plt.show()"
      ],
      "execution_count": null,
      "outputs": [
        {
          "output_type": "display_data",
          "data": {
            "image/png": "[encoded data removed]",
            "text/plain": [
              "<Figure size 432x288 with 1 Axes>"
            ]
          },
          "metadata": {
            "tags": [],
            "needs_background": "light"
          }
        }
      ]
    },
    {
      "cell_type": "code",
      "metadata": {
        "id": "AEtIbXAsED6o"
      },
      "source": [
        "def dist(p1, p2):\n",
        "\treturn math.sqrt((p1.x - p2.x) *\n",
        "\t\t\t\t\t(p1.x - p2.x) +\n",
        "\t\t\t\t\t(p1.y - p2.y) *\n",
        "\t\t\t\t\t(p1.y - p2.y))\n",
        "\n",
        "def bruteForce(P, n):\n",
        "\tmin_val = float('inf')\n",
        "\tfor i in range(n):\n",
        "\t\tfor j in range(i + 1, n):\n",
        "\t\t\tif dist(P[i], P[j]) < min_val:\n",
        "\t\t\t\tmin_val = dist(P[i], P[j])\n",
        "\n",
        "\treturn min_val\n",
        "\n",
        "\n",
        "def divide(p,q,n):\n",
        "\tif n <= 3:\n",
        "\t\treturn bruteForce(p, n)\n",
        "\tmid = n // 2\n",
        "\tmidPoint = p[mid]\n",
        "\n",
        "\tPl = p[:mid]\n",
        "\tPr = p[mid:]\n",
        "\tdl = divide(Pl,q, mid)\n",
        "\tdr = divide(Pr,q, n - mid)\n",
        "\td = min(dl, dr)\n",
        "\n",
        "\tstripP = []\n",
        "\tstripQ = []\n",
        "\tlr = Pl + Pr\n",
        "\tfor i in range(n):\n",
        "\t\tif abs(lr[i].x - midPoint.x) < d:\n",
        "\t\t\tstripP.append(lr[i])\n",
        "\t\tif abs(lr[i].x - midPoint.x) < d:\n",
        "\t\t\tstripQ.append(lr[i])\n",
        "\n",
        "\tstripP.sort(key = lambda point: point.y)\n",
        "\tmin_a = min(d, combine(stripP, len(stripP), d))\n",
        "\tmin_b = min(d, combine(stripQ, len(stripQ), d))\n",
        "\t\n",
        "\treturn min(min_a,min_b)\n",
        "def combine(strip, size, d):\n",
        "\tmin_val = d\n",
        "\tfor i in range(size):\n",
        "\t\tj = i + 1\n",
        "\t\twhile j < size and (strip[j].y -\n",
        "\t\t\t\t\t\t\tstrip[i].y) < min_val:\n",
        "\t\t\tmin_val = dist(strip[i], strip[j])\n",
        "\t\t\tj += 1\n",
        "\treturn min_val\n",
        "\n",
        "def closest(P, n):\n",
        "\tP.sort(key = lambda point: point.x)\n",
        "\tQ = copy.deepcopy(P)\n",
        "\tQ.sort(key = lambda point: point.y)\n",
        "\treturn divide(P, Q, n)"
      ],
      "execution_count": null,
      "outputs": []
    },
    {
      "cell_type": "code",
      "metadata": {
        "colab": {
          "base_uri": "https://localhost:8080/"
        },
        "id": "CVpI3K_8EK3Q",
        "outputId": "1217ecb2-6fb3-4c93-a601-da54e31e1a82"
      },
      "source": [
        "n = len(p)\n",
        "print(closest(p, n))\n",
        "end = time.time()\n",
        "print(f\"Runtime of the program is {end - start}\")"
      ],
      "execution_count": null,
      "outputs": [
        {
          "output_type": "stream",
          "text": [
            "2.23606797749979\n",
            "Runtime of the program is 0.3049919605255127\n"
          ],
          "name": "stdout"
        }
      ]
    }
  ]
}